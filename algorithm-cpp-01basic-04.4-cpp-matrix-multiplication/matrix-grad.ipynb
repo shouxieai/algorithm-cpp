{
 "cells": [
  {
   "cell_type": "markdown",
   "metadata": {},
   "source": [
    "#### 矩阵求导\n",
    "1. 考虑矩阵乘法 $$ A \\cdot B = C $$\n",
    "2. 考虑Loss函数 $$ L = \\sum^m_{i}\\sum^n_{j}{(C_{ij} - p)^2} $$\n",
    "3. 考虑C的每一项导数 $$ \\triangledown C_{ij} = \\frac{\\partial L}{\\partial C_{ij}} $$\n",
    "4. 考虑ABC都为2x2矩阵时，定义G为L对C的导数\n",
    "$$A = \\begin{bmatrix}\n",
    "a & b\\\\\n",
    "c & d\n",
    "\\end{bmatrix}\n",
    "\\quad\n",
    "B = \n",
    "\\begin{bmatrix} \n",
    "e & f \\\\\n",
    "g & h\n",
    "\\end{bmatrix}\n",
    "\\quad\n",
    "C = \\begin{bmatrix} \n",
    "i & j \\\\\n",
    "k & l \n",
    "\\end{bmatrix}\n",
    "\\quad\n",
    "G = \\frac{\\partial L}{\\partial C} = \\begin{bmatrix} \n",
    "\\frac{\\partial L}{\\partial i} & \\frac{\\partial L}{\\partial j} \\\\\n",
    "\\frac{\\partial L}{\\partial k} & \\frac{\\partial L}{\\partial l} \n",
    "\\end{bmatrix} = \\begin{bmatrix} \n",
    "w & x \\\\\n",
    "y & z \n",
    "\\end{bmatrix}\n",
    "$$\n",
    "\n",
    "5. 展开左边 A x B\n",
    "$$C = \\begin{bmatrix}\n",
    "i = ae + bg & j = af + bh\\\\\n",
    "k = ce + dg & l = cf + dh\n",
    "\\end{bmatrix}\n",
    "$$"
   ]
  },
  {
   "cell_type": "markdown",
   "metadata": {},
   "source": [
    "6. L对于每一个A的导数$$ \\triangledown A_{ij} = \\frac{\\partial L}{\\partial A_{ij}} $$"
   ]
  },
  {
   "cell_type": "markdown",
   "metadata": {},
   "source": [
    "$$ \\frac{\\partial L}{\\partial a} = \\frac{\\partial L}{\\partial i} * \\frac{\\partial i}{\\partial a} + \\frac{\\partial L}{\\partial j} * \\frac{\\partial j}{\\partial a} $$\n",
    "\n",
    "$$ \\frac{\\partial L}{\\partial b} = \\frac{\\partial L}{\\partial i} * \\frac{\\partial i}{\\partial b} + \\frac{\\partial L}{\\partial j} * \\frac{\\partial j}{\\partial b} $$\n",
    "\n",
    "$$ \\frac{\\partial L}{\\partial c} = \\frac{\\partial L}{\\partial k} * \\frac{\\partial k}{\\partial c} + \\frac{\\partial L}{\\partial l} * \\frac{\\partial l}{\\partial c} $$\n",
    "\n",
    "$$ \\frac{\\partial L}{\\partial d} = \\frac{\\partial L}{\\partial k} * \\frac{\\partial k}{\\partial d} + \\frac{\\partial L}{\\partial l} * \\frac{\\partial l}{\\partial d} $$"
   ]
  },
  {
   "cell_type": "markdown",
   "metadata": {},
   "source": [
    "$$ \\frac{\\partial L}{\\partial a} = we + xf \\\\ $$\n",
    "$$ \\frac{\\partial L}{\\partial b} = wg + xh \\\\ $$\n",
    "$$ \\frac{\\partial L}{\\partial c} = ye + zf \\\\ $$\n",
    "$$ \\frac{\\partial L}{\\partial d} = yg + zh $$"
   ]
  },
  {
   "cell_type": "markdown",
   "metadata": {},
   "source": [
    "7. 因此A的导数为$$ \n",
    "\\frac{\\partial L}{\\partial A} = \\begin{bmatrix}\n",
    "we + xf & wg + xh\\\\\n",
    "ye + zf & yg + zh\n",
    "\\end{bmatrix}\n",
    "\\quad\n",
    "\\frac{\\partial L}{\\partial A} = \\begin{bmatrix}\n",
    "w & x\\\\\n",
    "y & z\n",
    "\\end{bmatrix}\n",
    "\\begin{bmatrix}\n",
    "e & g\\\\\n",
    "f & h\n",
    "\\end{bmatrix}\n",
    "$$\n",
    "\n",
    "$$\n",
    "\\frac{\\partial L}{\\partial A} = G \\cdot B^T\n",
    "$$"
   ]
  },
  {
   "cell_type": "markdown",
   "metadata": {},
   "source": [
    "8. 同理B的导数为:\n",
    "$$ \\frac{\\partial L}{\\partial e} = wa + yc \\\\ $$\n",
    "$$ \\frac{\\partial L}{\\partial f} = xa + zc \\\\ $$\n",
    "$$ \\frac{\\partial L}{\\partial g} = wb + yd \\\\ $$\n",
    "$$ \\frac{\\partial L}{\\partial h} = xb + zd $$"
   ]
  },
  {
   "cell_type": "markdown",
   "metadata": {},
   "source": [
    "$$ \n",
    "\\frac{\\partial L}{\\partial B} = \\begin{bmatrix}\n",
    "wa + yc & xa + zc\\\\\n",
    "wb + yd & xb + zd\n",
    "\\end{bmatrix}\n",
    "\\quad\n",
    "\\frac{\\partial L}{\\partial B} = \\begin{bmatrix}\n",
    "a & c\\\\\n",
    "b & d\n",
    "\\end{bmatrix}\n",
    "\\begin{bmatrix}\n",
    "w & x\\\\\n",
    "y & z\n",
    "\\end{bmatrix}\n",
    "$$\n",
    "\n",
    "$$\n",
    "\\frac{\\partial L}{\\partial B} = A^T \\cdot G\n",
    "$$"
   ]
  },
  {
   "cell_type": "markdown",
   "metadata": {},
   "source": [
    "---"
   ]
  }
 ],
 "metadata": {
  "kernelspec": {
   "display_name": "Python 3 (ipykernel)",
   "language": "python",
   "name": "python3"
  },
  "language_info": {
   "codemirror_mode": {
    "name": "ipython",
    "version": 3
   },
   "file_extension": ".py",
   "mimetype": "text/x-python",
   "name": "python",
   "nbconvert_exporter": "python",
   "pygments_lexer": "ipython3",
   "version": "3.9.7"
  }
 },
 "nbformat": 4,
 "nbformat_minor": 4
}
